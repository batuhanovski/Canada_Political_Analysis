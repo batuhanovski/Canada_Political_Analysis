{
 "cells": [
  {
   "cell_type": "code",
   "execution_count": 44,
   "id": "dbd8530a",
   "metadata": {},
   "outputs": [],
   "source": [
    "import pandas as pd\n",
    "from selenium import webdriver\n",
    "from selenium.webdriver.common.by import By\n",
    "from selenium.webdriver.chrome.service import Service\n",
    "import time\n",
    "import os\n",
    "from bs4 import BeautifulSoup\n",
    "from tqdm import tqdm"
   ]
  },
  {
   "cell_type": "code",
   "execution_count": 88,
   "id": "d580c46d",
   "metadata": {},
   "outputs": [],
   "source": [
    "chrome_path = Service(r'./chromedriver/chromedriver')\n",
    "driver = webdriver.Chrome(service=chrome_path)"
   ]
  },
  {
   "cell_type": "code",
   "execution_count": 89,
   "id": "8d8d8f77",
   "metadata": {},
   "outputs": [],
   "source": [
    "ids = pd.read_csv('data/Link_ID.csv',names=['id'])\n",
    "ids=list(ids['id'])"
   ]
  },
  {
   "cell_type": "code",
   "execution_count": 47,
   "id": "4c6700bb",
   "metadata": {},
   "outputs": [],
   "source": [
    "electoral_XPATH = '//*[@id=\"headingOne\"]/h2/a'\n",
    "\n",
    "download_XPATH = '//*[@id=\"gridCandidates\"]/div/div[4]/div/div/div[3]/div[3]/div/div/div'\n",
    "download_XPATH2 = '//*[@id=\"gridCandidates\"]/div/div[4]/div/div/div[3]/div[3]/div/div'\n",
    "name_PATH = r'//*[@id=\"PersonTitle\"]/h2'"
   ]
  },
  {
   "cell_type": "markdown",
   "id": "f16dbcae",
   "metadata": {},
   "source": [
    "* I saw that we can start from 4213"
   ]
  },
  {
   "cell_type": "markdown",
   "id": "1b2e38e1",
   "metadata": {},
   "source": [
    "#### not downloading"
   ]
  },
  {
   "cell_type": "code",
   "execution_count": 90,
   "id": "46dcf747",
   "metadata": {},
   "outputs": [],
   "source": [
    "def get_electoral(ID):\n",
    "    web = 'https://lop.parl.ca/sites/ParlInfo/default/en_CA/People/Profile?personId='+str(ID)\n",
    "    driver.get(web)\n",
    "    time.sleep(1)\n",
    "    \n",
    "    try:\n",
    "        name = driver.find_element(By.XPATH, name_PATH).text\n",
    "    except: \n",
    "        name = '-'\n",
    "    \n",
    "    time.sleep(1)\n",
    "    \n",
    "    try:\n",
    "        \n",
    "        time.sleep(1)\n",
    "        \n",
    "        electoral = driver.find_element(By.XPATH, electoral_XPATH)\n",
    "        electoral.click()\n",
    "        \n",
    "        time.sleep(1)\n",
    "\n",
    "        try:\n",
    "            table = driver.find_element(By.XPATH , '//*[@id=\"gridCandidates\"]/div/div[6]/div/div/div/div/table/tbody')\n",
    "\n",
    "        except:\n",
    "            time.sleep(2)\n",
    "            table = driver.find_element(By.XPATH , '//*[@id=\"gridCandidates\"]/div/div[6]/div/div/div/div/table/tbody')\n",
    "\n",
    "        column_names = ['Parliament','Election Date','Constituency','Party','Result','Votes']\n",
    "        rows=table.text.split('\\n') \n",
    "\n",
    "        data = []\n",
    "        for row in rows:\n",
    "            row_instances = row.split(' ')\n",
    "            Votes = row_instances.pop()\n",
    "            Result = row_instances.pop()\n",
    "            Parliament = row_instances.pop(0)\n",
    "            Election_Date = row_instances.pop(0)\n",
    "            Constituency = row_instances.pop(0)\n",
    "            Party = ' '.join(row_instances)\n",
    "            data.append([Parliament, Election_Date, Constituency, Party, Result, Votes])\n",
    "\n",
    "        temp_df = pd.DataFrame(data=data,columns=column_names)\n",
    "        temp_df['name']=str(name)\n",
    "        temp_df['id']=str(ID)\n",
    "    \n",
    "    except: \n",
    "\n",
    "        print(str(ID) + ' do not have electoral data')      \n",
    "    \n",
    "    return temp_df"
   ]
  },
  {
   "cell_type": "code",
   "execution_count": 91,
   "id": "7c23b0de",
   "metadata": {},
   "outputs": [],
   "source": [
    "def get_electorals(ids):\n",
    "    df_electoral = pd.DataFrame()\n",
    "    for ID in tqdm(ids):\n",
    "        try:\n",
    "            df_electoral = pd.concat([df_electoral,get_electoral(ID)])\n",
    "        except Exception as e:\n",
    "            print('error for ID: ' + str(ID) + ' is ' + str(e))\n",
    "    return df_electoral"
   ]
  },
  {
   "cell_type": "code",
   "execution_count": null,
   "id": "e60973f4",
   "metadata": {
    "scrolled": true
   },
   "outputs": [],
   "source": [
    "df_electoral=get_electorals(ids[4700:4800])"
   ]
  },
  {
   "cell_type": "code",
   "execution_count": 93,
   "id": "424802d0",
   "metadata": {},
   "outputs": [],
   "source": [
    "df_electoral.to_csv('electoral_data.csv')"
   ]
  },
  {
   "cell_type": "markdown",
   "id": "ac5e858d",
   "metadata": {},
   "source": [
    "#### with download button"
   ]
  },
  {
   "cell_type": "code",
   "execution_count": null,
   "id": "42f9006f",
   "metadata": {},
   "outputs": [],
   "source": [
    "def get_electoral(ID):\n",
    "\n",
    "    web = 'https://lop.parl.ca/sites/ParlInfo/default/en_CA/People/Profile?personId='+str(ID)\n",
    "    driver.get(web)\n",
    "\n",
    "    time.sleep(1)    \n",
    "\n",
    "    name = driver.find_element(By.XPATH, name_PATH).text\n",
    "\n",
    "    time.sleep(1)\n",
    "\n",
    "    electoral = driver.find_element(By.XPATH, electoral_XPATH)\n",
    "    electoral.click()\n",
    "\n",
    "    time.sleep(1)\n",
    "\n",
    "    download = driver.find_element(By.XPATH, download_XPATH2)\n",
    "    download.click()\n",
    "\n",
    "    time.sleep(5)\n",
    "\n",
    "    # if there is no error until here, I have to check it\n",
    "    temp_df = pd.read_excel('/Users/batuhan_mac/Downloads/Parliamentarian Profile - Electoral History.xlsx')\n",
    "    temp_df['id']=ID\n",
    "    temp_df['name']=name\n",
    "    os.remove(\"/Users/batuhan_mac/Downloads/Parliamentarian Profile - Electoral History.xlsx\")\n",
    "\n",
    "    return temp_df"
   ]
  }
 ],
 "metadata": {
  "kernelspec": {
   "display_name": "Python 3 (ipykernel)",
   "language": "python",
   "name": "python3"
  },
  "language_info": {
   "codemirror_mode": {
    "name": "ipython",
    "version": 3
   },
   "file_extension": ".py",
   "mimetype": "text/x-python",
   "name": "python",
   "nbconvert_exporter": "python",
   "pygments_lexer": "ipython3",
   "version": "3.9.7"
  }
 },
 "nbformat": 4,
 "nbformat_minor": 5
}
